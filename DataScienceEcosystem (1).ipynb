{
 "cells": [
  {
   "cell_type": "markdown",
   "id": "b69d0e28-7dfc-43fa-a1f1-bfe00deb981e",
   "metadata": {},
   "source": [
    "# Data Science Tools and Ecosystem"
   ]
  },
  {
   "cell_type": "markdown",
   "id": "23a727d2-1a11-4d0d-8240-bf21eac3c23b",
   "metadata": {},
   "source": [
    "In this notebook, Data Science Tools and Ecosystem are summarized."
   ]
  },
  {
   "cell_type": "markdown",
   "id": "91a830ac-c9bb-4c0a-b473-1f4085c55d02",
   "metadata": {
    "tags": []
   },
   "source": [
    "**Objectives:**\n",
    "- Data Science Task Categories\n",
    "- Popular languages for Data Science\n",
    "  - Python\n",
    "  - R\n",
    "  - SQL\n",
    "  - Scala\n",
    "  - Java\n",
    "  - C++\n",
    "  - Julia\n",
    "- Types of Machine Learning\n",
    "  - Supervised\n",
    "  - Unsupervised\n",
    "  - Reinforcement\n",
    "- Libraries\n",
    "    - Pandas\n",
    "    - Numpy\n",
    "    - Matploplib\n",
    "    - Seaborn\n",
    "    - Pytorch\n",
    "    - Scikit-Learn\n",
    "    - Tensorflow \n",
    "- GitHub, GitLab and Bitbucket are examples of hosted version control systems."
   ]
  },
  {
   "cell_type": "markdown",
   "id": "e62b8e4c-49e3-4fd7-b08d-6f3373fc129d",
   "metadata": {},
   "source": [
    "Some of the popular languages that Data Scientists use are:\n",
    "\n",
    "1. Python\n",
    "2. R\n",
    "3. Julia"
   ]
  },
  {
   "cell_type": "markdown",
   "id": "a9066bba-5171-4106-bd22-7c28f6af9b98",
   "metadata": {},
   "source": [
    "Some of the commonly used libraries used by Data Scientists include:\n",
    "\n",
    "1. Pandas\n",
    "2. Numpy\n",
    "3. Matploplib\n",
    "4. Seaborn\n",
    "5. Pytorch\n",
    "6. Scikit-Learn\n",
    "7. Tensorflow"
   ]
  },
  {
   "cell_type": "markdown",
   "id": "ec89d539-7681-44d8-9f2b-7c5331199a5d",
   "metadata": {
    "tags": []
   },
   "source": [
    "| Data Science Tools   |\n",
    "|----------------------|\n",
    "| Jupyter Notebook     |\n",
    "| RStudio              |\n",
    "| Visual Studio Code   |\n"
   ]
  },
  {
   "cell_type": "markdown",
   "id": "3199b2ee-1372-4cd7-8b41-0918bb5763d4",
   "metadata": {},
   "source": [
    "### Below are a few examples of evaluating arithmetic expressions in Python"
   ]
  },
  {
   "cell_type": "code",
   "execution_count": 1,
   "id": "f58e65ab-9ef2-4f50-8e1c-9d6e7731b1a5",
   "metadata": {
    "tags": []
   },
   "outputs": [
    {
     "data": {
      "text/plain": [
       "17"
      ]
     },
     "execution_count": 1,
     "metadata": {},
     "output_type": "execute_result"
    }
   ],
   "source": [
    "# This a simple arithmetic expression to mutiply then add integers\n",
    "(3*4)+5"
   ]
  },
  {
   "cell_type": "code",
   "execution_count": 2,
   "id": "58c61cab-b41f-4e4b-8346-e5ee6e99004d",
   "metadata": {
    "tags": []
   },
   "outputs": [
    {
     "data": {
      "text/plain": [
       "3.3333333333333335"
      ]
     },
     "execution_count": 2,
     "metadata": {},
     "output_type": "execute_result"
    }
   ],
   "source": [
    "# This will convert 200 minutes to hours by diving by 60\n",
    "200/60"
   ]
  },
  {
   "cell_type": "markdown",
   "id": "c3d9d66d-3b88-4d93-9d8c-8073066dba92",
   "metadata": {},
   "source": [
    "## Author\n",
    "Thiers M. Coelho"
   ]
  },
  {
   "cell_type": "code",
   "execution_count": null,
   "id": "838a75f1-ed03-4ce6-9a44-f509218381a5",
   "metadata": {},
   "outputs": [],
   "source": []
  }
 ],
 "metadata": {
  "kernelspec": {
   "display_name": "Python 3 (ipykernel)",
   "language": "python",
   "name": "python3"
  },
  "language_info": {
   "codemirror_mode": {
    "name": "ipython",
    "version": 3
   },
   "file_extension": ".py",
   "mimetype": "text/x-python",
   "name": "python",
   "nbconvert_exporter": "python",
   "pygments_lexer": "ipython3",
   "version": "3.11.3"
  }
 },
 "nbformat": 4,
 "nbformat_minor": 5
}
